{
 "cells": [
  {
   "cell_type": "code",
   "execution_count": null,
   "metadata": {},
   "outputs": [],
   "source": [
    "import json\n",
    "from pymongo import MongoClient\n",
    "\n",
    "client = MongoClient('localhost', 27017)\n",
    "db = client['pro3news']\n",
    "collection= db['keywords']\n",
    "\n",
    "with open('keywords_json.json') as g:\n",
    "    file_data = json.load(g)\n",
    "\n",
    "# if pymongo >= 3.0 use insert_one() for inserting one document\n",
    "collection.insert_one(file_data)\n",
    "\n",
    "\n",
    "client.close()"
   ]
  },
  {
   "cell_type": "code",
   "execution_count": null,
   "metadata": {},
   "outputs": [],
   "source": [
    "import json\n",
    "from pymongo import MongoClient\n",
    "\n",
    "client = MongoClient('localhost', 27017)\n",
    "db = client['pro3news']\n",
    "collection= db['keywords']\n",
    "\n",
    "with open('word_counts.json') as g:\n",
    "    file_data = json.load(g)\n",
    "\n",
    "# if pymongo >= 3.0 use insert_one() for inserting one document\n",
    "collection.insert_one(file_data)\n",
    "\n",
    "\n",
    "client.close()"
   ]
  },
  {
   "cell_type": "code",
   "execution_count": 1,
   "metadata": {},
   "outputs": [],
   "source": [
    "import json\n",
    "from pymongo import MongoClient\n",
    "\n",
    "client = MongoClient('localhost', 27017)\n",
    "db = client['pro3news']\n",
    "collection= db['sentiment']\n",
    "\n",
    "with open('sentiment_all.json') as g:\n",
    "    file_data = json.load(g)\n",
    "\n",
    "# if pymongo >= 3.0 use insert_one() for inserting one document\n",
    "collection.insert_one(file_data)\n",
    "\n",
    "\n",
    "client.close()"
   ]
  },
  {
   "cell_type": "code",
   "execution_count": null,
   "metadata": {},
   "outputs": [],
   "source": [
    "import json\n",
    "from pymongo import MongoClient\n",
    "\n",
    "client = MongoClient('localhost', 27017)\n",
    "db = client['pro3news']\n",
    "collection= db['shares']\n",
    "\n",
    "with open('shares.json') as g:\n",
    "    file_data = json.load(g)\n",
    "\n",
    "# if pymongo >= 3.0 use insert_one() for inserting one document\n",
    "collection.insert_one(file_data)\n",
    "\n",
    "\n",
    "client.close()"
   ]
  },
  {
   "cell_type": "code",
   "execution_count": null,
   "metadata": {},
   "outputs": [],
   "source": [
    "import json\n",
    "from pymongo import MongoClient\n",
    "\n",
    "client = MongoClient('localhost', 27017)\n",
    "db = client['pro3news']\n",
    "collection= db['weekly_stock_data']\n",
    "\n",
    "with open('WeeklyCovidStocks_DOWindustrial.json') as g:\n",
    "    file_data = json.load(g)\n",
    "\n",
    "# if pymongo >= 3.0 use insert_one() for inserting one document\n",
    "collection.insert_one(file_data)\n",
    "\n",
    "\n",
    "client.close()"
   ]
  },
  {
   "cell_type": "code",
   "execution_count": null,
   "metadata": {},
   "outputs": [],
   "source": [
    "import json\n",
    "from pymongo import MongoClient\n",
    "\n",
    "client = MongoClient('localhost', 27017)\n",
    "db = client['pro3news']\n",
    "collection= db['weekly_stock_data']\n",
    "\n",
    "with open('WeeklyCovidStocks_SP500.json') as g:\n",
    "    file_data = json.load(g)\n",
    "\n",
    "# if pymongo >= 3.0 use insert_one() for inserting one document\n",
    "collection.insert_one(file_data)\n",
    "\n",
    "\n",
    "client.close()"
   ]
  },
  {
   "cell_type": "code",
   "execution_count": null,
   "metadata": {},
   "outputs": [],
   "source": [
    "import json\n",
    "from pymongo import MongoClient\n",
    "\n",
    "client = MongoClient('localhost', 27017)\n",
    "db = client['pro3news']\n",
    "collection= db['daily_stock_data']\n",
    "\n",
    "with open('DailyCovidStocks_SP500.json') as g:\n",
    "    file_data = json.load(g)\n",
    "\n",
    "# if pymongo >= 3.0 use insert_one() for inserting one document\n",
    "collection.insert_one(file_data)\n",
    "\n",
    "\n",
    "client.close()"
   ]
  },
  {
   "cell_type": "code",
   "execution_count": null,
   "metadata": {},
   "outputs": [],
   "source": [
    "import json\n",
    "from pymongo import MongoClient\n",
    "\n",
    "client = MongoClient('localhost', 27017)\n",
    "db = client['pro3news']\n",
    "collection= db['daily_stock_data']\n",
    "\n",
    "with open('WeeklyCovidStocks_DOWindustrial.json') as g:\n",
    "    file_data = json.load(g)\n",
    "\n",
    "# if pymongo >= 3.0 use insert_one() for inserting one document\n",
    "collection.insert_one(file_data)\n",
    "\n",
    "\n",
    "client.close()"
   ]
  }
 ],
 "metadata": {
  "kernelspec": {
   "display_name": "Python 3",
   "language": "python",
   "name": "python3"
  },
  "language_info": {
   "codemirror_mode": {
    "name": "ipython",
    "version": 3
   },
   "file_extension": ".py",
   "mimetype": "text/x-python",
   "name": "python",
   "nbconvert_exporter": "python",
   "pygments_lexer": "ipython3",
   "version": "3.7.4"
  }
 },
 "nbformat": 4,
 "nbformat_minor": 2
}
