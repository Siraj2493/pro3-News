{
 "cells": [
  {
   "cell_type": "code",
   "execution_count": 1,
   "metadata": {},
   "outputs": [],
   "source": [
    "# pip install alpha-vantage\n",
    "# pip install pandas\n",
    "# pip install matplotlib"
   ]
  },
  {
   "cell_type": "code",
   "execution_count": 2,
   "metadata": {},
   "outputs": [],
   "source": [
    "import requests\n",
    "import json\n",
    "from pprint import pprint\n",
    "from config import AV_API_Key\n",
    "import pandas as pd\n",
    "import numpy as np"
   ]
  },
  {
   "cell_type": "code",
   "execution_count": 3,
   "metadata": {},
   "outputs": [],
   "source": [
    "url = 'https://www.alphavantage.co/query?'\n",
    "seriesWeekly = 'TIME_SERIES_WEEKLY'\n",
    "weeklyDates2020 = pd.date_range('1/1/2020', periods=16)\n",
    "monthlyDates2020 = pd.date_range('1/1/2020', periods=4)\n",
    "tickerSP = 'SP'\n",
    "tickerDOW = 'DIA'\n",
    "weeklyQueryJSONurl = f\"{url}function={seriesWeekly}&symbol={tickerSP}&apikey={AV_API_Key}\"\n",
    "weeklyQueryCSVurl = f\"{url}function={seriesWeekly}&symbol={tickerSP}&apikey={AV_API_Key}&datatype=csv\""
   ]
  },
  {
   "cell_type": "code",
   "execution_count": 4,
   "metadata": {},
   "outputs": [],
   "source": [
    "seriesIntra = 'TIME_SERIES_INTRADAY'\n"
   ]
  },
  {
   "cell_type": "code",
   "execution_count": 5,
   "metadata": {},
   "outputs": [],
   "source": [
    "seriesMonthly = 'TIME_SERIES_MONTHLY'\n",
    "monthlyQueryJSONurl = f\"{url}function={seriesMonthly}&symbol={tickerSP}&apikey={AV_API_Key}\"\n",
    "monthlyQueryCSVurl = f\"{url}function={seriesMonthly}&symbol={tickerSP}&apikey={AV_API_Key}&datatype=csv\""
   ]
  },
  {
   "cell_type": "code",
   "execution_count": null,
   "metadata": {
    "tags": [
     "outputPrepend",
     "outputPrepend",
     "outputPrepend",
     "outputPrepend",
     "outputPrepend",
     "outputPrepend",
     "outputPrepend",
     "outputPrepend",
     "outputPrepend"
    ]
   },
   "outputs": [],
   "source": [
    "weeklyOutput = requests.get(weeklyQueryJSONurl).json()\n",
    "weeklyOutput = weeklyOutput.pop('Weekly Time Series')\n",
    "# pprint (weeklyOutput)"
   ]
  },
  {
   "cell_type": "code",
   "execution_count": null,
   "metadata": {},
   "outputs": [],
   "source": [
    "monthlyOutput = requests.get(monthlyQueryJSONurl).json()\n",
    "monthlyOutput = monthlyOutput.pop('Monthly Time Series')\n",
    "# pprint (monthlyOutput)"
   ]
  },
  {
   "cell_type": "code",
   "execution_count": null,
   "metadata": {},
   "outputs": [],
   "source": [
    "monthlyDF = pd.DataFrame(monthlyOutput)\n",
    "monthlyDF = monthlyDF.transpose()\n",
    "# monthlyDF\n",
    "monthlyDF.index.name = 'Month End Date'\n",
    "monthlyDF = monthlyDF.rename(columns={\"1. open\": \"open\", \"2. high\": \"high\", \"3. low\":\"low\", \"4. close\":\"close\", \"5. volume\":\"volume\", })\n",
    "# monthlyDF = pd.DataFrame(np.random.randn(4, 5), index=monthlyDates2020, columns=['open', 'high', 'low', 'close', 'volume'])\n",
    "monthlyDF = monthlyDF.head(4)\n",
    "# monthlyDF"
   ]
  },
  {
   "cell_type": "code",
   "execution_count": null,
   "metadata": {},
   "outputs": [],
   "source": [
    "weeklyDF = pd.DataFrame(weeklyOutput)\n",
    "weeklyDF = weeklyDF.transpose()\n",
    "weeklyDF = weeklyDF.rename(columns={\"1. open\": \"open\", \"2. high\": \"high\", \"3. low\":\"low\", \"4. close\":\"close\", \"5. volume\":\"volume\", })\n",
    "# weeklyDF = pd.DataFrame(np.random.randn(16, 5), index=monthlyDates2020, columns=['open', 'high', 'low', 'close', 'volume'])\n",
    "weeklyDF = weeklyDF.head(18)\n",
    "# weeklyDF"
   ]
  },
  {
   "cell_type": "code",
   "execution_count": null,
   "metadata": {},
   "outputs": [],
   "source": [
    "weeklyDF.to_json(\"WeeklyCovidStocks.json\", orient='index')\n",
    "monthlyDF.to_json(\"MonthlyCovidStocks.json\", orient='index')"
   ]
  },
  {
   "cell_type": "code",
   "execution_count": null,
   "metadata": {},
   "outputs": [],
   "source": [
    "weeklyDF.to_csv(\"WeeklyCovidStocks.csv\")\n",
    "monthlyDF.to_csv(\"MonthlyCovidStocks.csv\")"
   ]
  }
 ],
 "metadata": {
  "file_extension": ".py",
  "kernelspec": {
   "display_name": "Python 3.6.9 64-bit ('PythonData': conda)",
   "language": "python",
   "name": "python36964bitpythondataconda82cd0c38896b45efa2efbf866fc58dd7"
  },
  "language_info": {
   "codemirror_mode": {
    "name": "ipython",
    "version": 3
   },
   "file_extension": ".py",
   "mimetype": "text/x-python",
   "name": "python",
   "nbconvert_exporter": "python",
   "pygments_lexer": "ipython3",
   "version": "3.6.9"
  },
  "mimetype": "text/x-python",
  "name": "python",
  "npconvert_exporter": "python",
  "pygments_lexer": "ipython3",
  "version": 3
 },
 "nbformat": 4,
 "nbformat_minor": 2
}
