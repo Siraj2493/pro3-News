{
 "cells": [
  {
   "cell_type": "code",
   "execution_count": 61,
   "metadata": {},
   "outputs": [],
   "source": [
    "# pip install alpha-vantage\n",
    "# pip install pandas\n",
    "# pip install matplotlib"
   ]
  },
  {
   "cell_type": "code",
   "execution_count": 62,
   "metadata": {},
   "outputs": [],
   "source": [
    "import requests\n",
    "import json\n",
    "from pprint import pprint\n",
    "from config import AV_API_Key\n",
    "import pandas as pd\n",
    "import numpy as np"
   ]
  },
  {
   "cell_type": "code",
   "execution_count": 63,
   "metadata": {},
   "outputs": [],
   "source": [
    "url = 'https://www.alphavantage.co/query?'\n",
    "\n",
    "# weeklyDates2020 = pd.date_range('1/1/2020', periods=16)\n",
    "# monthlyDates2020 = pd.date_range('1/1/2020', periods=4)\n",
    "tickerSP = 'SPX'\n",
    "tickerDOW = 'DJIA'"
   ]
  },
  {
   "cell_type": "code",
   "execution_count": 64,
   "metadata": {},
   "outputs": [],
   "source": [
    "seriesIntra = 'TIME_SERIES_INTRADAY'\n",
    "interval60 = '60min'\n",
    "intraQueryJSONurlSP60 = f\"{url}function={seriesIntra}&symbol={tickerSP}&interval={interval60}&apikey={AV_API_Key}\"\n",
    "intraQueryJSONurlDOW60 = f\"{url}function={seriesIntra}&symbol={tickerDOW}&interval={interval60}&apikey={AV_API_Key}\""
   ]
  },
  {
   "cell_type": "code",
   "execution_count": 65,
   "metadata": {},
   "outputs": [],
   "source": [
    "seriesDaily = 'TIME_SERIES_DAILY'\n",
    "dailyQueryJSONurlSP = f\"{url}function={seriesDaily}&symbol={tickerSP}&apikey={AV_API_Key}\"\n",
    "dailyQueryCSVurl = f\"{url}function={seriesDaily}&symbol={tickerSP}&apikey={AV_API_Key}&datatype=csv\"\n",
    "dailyQueryJSONurlDOW = f\"{url}function={seriesDaily}&symbol={tickerDOW}&apikey={AV_API_Key}\""
   ]
  },
  {
   "cell_type": "code",
   "execution_count": 66,
   "metadata": {},
   "outputs": [],
   "source": [
    "seriesWeekly = 'TIME_SERIES_WEEKLY'\n",
    "weeklyQueryJSONurlSP = f\"{url}function={seriesWeekly}&symbol={tickerSP}&apikey={AV_API_Key}\"\n",
    "weeklyQueryCSVurl = f\"{url}function={seriesWeekly}&symbol={tickerSP}&apikey={AV_API_Key}&datatype=csv\"\n",
    "weeklyQueryJSONurlDOW = f\"{url}function={seriesWeekly}&symbol={tickerDOW}&apikey={AV_API_Key}\""
   ]
  },
  {
   "cell_type": "code",
   "execution_count": 67,
   "metadata": {},
   "outputs": [],
   "source": [
    "seriesMonthly = 'TIME_SERIES_MONTHLY'\n",
    "monthlyQueryJSONurlSP = f\"{url}function={seriesMonthly}&symbol={tickerSP}&apikey={AV_API_Key}\"\n",
    "monthlyQueryCSVurl = f\"{url}function={seriesMonthly}&symbol={tickerSP}&apikey={AV_API_Key}&datatype=csv\"\n",
    "monthlyQueryJSONurlDOW = f\"{url}function={seriesMonthly}&symbol={tickerDOW}&apikey={AV_API_Key}\""
   ]
  },
  {
   "cell_type": "code",
   "execution_count": 68,
   "metadata": {
    "tags": [
     "outputPrepend"
    ]
   },
   "outputs": [],
   "source": [
    "intraOutput60SP = requests.get(intraQueryJSONurlSP60).json()\n",
    "intraOutput60SP = intraOutput60SP.pop('Time Series (60min)')\n",
    "# pprint (intraOutput60SP)"
   ]
  },
  {
   "cell_type": "code",
   "execution_count": 69,
   "metadata": {},
   "outputs": [],
   "source": [
    "intraOutput60DOW = requests.get(intraQueryJSONurlDOW60).json()\n",
    "intraOutput60DOW = intraOutput60DOW.pop('Time Series (60min)')\n",
    "# pprint (intraOutput60DOW)"
   ]
  },
  {
   "cell_type": "code",
   "execution_count": 70,
   "metadata": {},
   "outputs": [],
   "source": [
    "dailyOutputSP = requests.get(dailyQueryJSONurlSP).json()\n",
    "dailyOutputSP = dailyOutputSP.pop('Time Series (Daily)')\n",
    "# pprint (dailyOutputSP)"
   ]
  },
  {
   "cell_type": "code",
   "execution_count": 71,
   "metadata": {},
   "outputs": [],
   "source": [
    "dailyOutputDOW = requests.get(dailyQueryJSONurlDOW).json()\n",
    "dailyOutputDOW = dailyOutputDOW.pop('Time Series (Daily)')\n",
    "# pprint (dailyOutputDOW)"
   ]
  },
  {
   "cell_type": "code",
   "execution_count": 72,
   "metadata": {
    "tags": [
     "outputPrepend",
     "outputPrepend",
     "outputPrepend",
     "outputPrepend",
     "outputPrepend",
     "outputPrepend",
     "outputPrepend",
     "outputPrepend",
     "outputPrepend"
    ]
   },
   "outputs": [],
   "source": [
    "weeklyOutputSP= requests.get(weeklyQueryJSONurlSP).json()\n",
    "weeklyOutputSP = weeklyOutputSP.pop('Weekly Time Series')\n",
    "# pprint (weeklyOutputSP)"
   ]
  },
  {
   "cell_type": "code",
   "execution_count": 88,
   "metadata": {},
   "outputs": [],
   "source": [
    "weeklyOutputDOW = requests.get(weeklyQueryJSONurlDOW).json()\n",
    "weeklyOutputDOW = weeklyOutputDOW.pop('Weekly Time Series')\n",
    "# pprint (weeklyOutputDOW)"
   ]
  },
  {
   "cell_type": "code",
   "execution_count": 89,
   "metadata": {},
   "outputs": [],
   "source": [
    "monthlyOutputSP = requests.get(monthlyQueryJSONurlSP).json()\n",
    "monthlyOutputSP = monthlyOutputSP.pop('Monthly Time Series')\n",
    "# pprint (monthlyOutputSP)"
   ]
  },
  {
   "cell_type": "code",
   "execution_count": 90,
   "metadata": {},
   "outputs": [],
   "source": [
    "monthlyOutputDOW = requests.get(monthlyQueryJSONurlDOW).json()\n",
    "monthlyOutputDOW = monthlyOutputDOW.pop('Monthly Time Series')\n",
    "# pprint (monthlyOutputDOW)"
   ]
  },
  {
   "cell_type": "code",
   "execution_count": 91,
   "metadata": {},
   "outputs": [
    {
     "output_type": "execute_result",
     "data": {
      "text/plain": "                          open       high        low      close     volume\nDate & Hour                                                               \n2020-04-17 15:05:14  2843.6799  2843.6799  2843.6799  2843.6799          0\n2020-04-17 14:30:00  2841.3401  2845.2800  2833.4299  2844.3401  145768911\n2020-04-17 13:30:00  2846.5200  2851.7600  2840.6299  2841.3799  244544945\n2020-04-17 12:30:00  2839.7800  2853.8000  2839.5400  2846.4800  260098934\n2020-04-17 11:30:00  2832.9800  2845.3999  2831.6799  2839.7500  288912688\n...                        ...        ...        ...        ...        ...\n2020-03-30 11:30:00  2604.4399  2607.7400  2590.6399  2607.5500  285330858\n2020-03-30 10:30:00  2576.8301  2605.1799  2575.5500  2604.4900  373708558\n2020-03-30 09:30:00  2565.8827  2602.7032  2565.3114  2577.6550          0\n2020-03-27 15:30:00  2607.0200  2608.3201  2534.9900  2540.0400  484449492\n2020-03-27 14:30:00  2571.8101  2615.9099  2564.8401  2607.0701  372513185\n\n[100 rows x 5 columns]",
      "text/html": "<div>\n<style scoped>\n    .dataframe tbody tr th:only-of-type {\n        vertical-align: middle;\n    }\n\n    .dataframe tbody tr th {\n        vertical-align: top;\n    }\n\n    .dataframe thead th {\n        text-align: right;\n    }\n</style>\n<table border=\"1\" class=\"dataframe\">\n  <thead>\n    <tr style=\"text-align: right;\">\n      <th></th>\n      <th>open</th>\n      <th>high</th>\n      <th>low</th>\n      <th>close</th>\n      <th>volume</th>\n    </tr>\n    <tr>\n      <th>Date &amp; Hour</th>\n      <th></th>\n      <th></th>\n      <th></th>\n      <th></th>\n      <th></th>\n    </tr>\n  </thead>\n  <tbody>\n    <tr>\n      <th>2020-04-17 15:05:14</th>\n      <td>2843.6799</td>\n      <td>2843.6799</td>\n      <td>2843.6799</td>\n      <td>2843.6799</td>\n      <td>0</td>\n    </tr>\n    <tr>\n      <th>2020-04-17 14:30:00</th>\n      <td>2841.3401</td>\n      <td>2845.2800</td>\n      <td>2833.4299</td>\n      <td>2844.3401</td>\n      <td>145768911</td>\n    </tr>\n    <tr>\n      <th>2020-04-17 13:30:00</th>\n      <td>2846.5200</td>\n      <td>2851.7600</td>\n      <td>2840.6299</td>\n      <td>2841.3799</td>\n      <td>244544945</td>\n    </tr>\n    <tr>\n      <th>2020-04-17 12:30:00</th>\n      <td>2839.7800</td>\n      <td>2853.8000</td>\n      <td>2839.5400</td>\n      <td>2846.4800</td>\n      <td>260098934</td>\n    </tr>\n    <tr>\n      <th>2020-04-17 11:30:00</th>\n      <td>2832.9800</td>\n      <td>2845.3999</td>\n      <td>2831.6799</td>\n      <td>2839.7500</td>\n      <td>288912688</td>\n    </tr>\n    <tr>\n      <th>...</th>\n      <td>...</td>\n      <td>...</td>\n      <td>...</td>\n      <td>...</td>\n      <td>...</td>\n    </tr>\n    <tr>\n      <th>2020-03-30 11:30:00</th>\n      <td>2604.4399</td>\n      <td>2607.7400</td>\n      <td>2590.6399</td>\n      <td>2607.5500</td>\n      <td>285330858</td>\n    </tr>\n    <tr>\n      <th>2020-03-30 10:30:00</th>\n      <td>2576.8301</td>\n      <td>2605.1799</td>\n      <td>2575.5500</td>\n      <td>2604.4900</td>\n      <td>373708558</td>\n    </tr>\n    <tr>\n      <th>2020-03-30 09:30:00</th>\n      <td>2565.8827</td>\n      <td>2602.7032</td>\n      <td>2565.3114</td>\n      <td>2577.6550</td>\n      <td>0</td>\n    </tr>\n    <tr>\n      <th>2020-03-27 15:30:00</th>\n      <td>2607.0200</td>\n      <td>2608.3201</td>\n      <td>2534.9900</td>\n      <td>2540.0400</td>\n      <td>484449492</td>\n    </tr>\n    <tr>\n      <th>2020-03-27 14:30:00</th>\n      <td>2571.8101</td>\n      <td>2615.9099</td>\n      <td>2564.8401</td>\n      <td>2607.0701</td>\n      <td>372513185</td>\n    </tr>\n  </tbody>\n</table>\n<p>100 rows × 5 columns</p>\n</div>"
     },
     "metadata": {},
     "execution_count": 91
    }
   ],
   "source": [
    "intraDFsp60 = pd.DataFrame(intraOutput60SP)\n",
    "intraDFsp60 = intraDFsp60.transpose()\n",
    "intraDFsp60.index.name = 'Date & Hour'\n",
    "intraDFsp60 = intraDFsp60.rename(columns={\"1. open\": \"open\", \"2. high\": \"high\", \"3. low\":\"low\", \"4. close\":\"close\", \"5. volume\":\"volume\", })\n",
    "# weeklyDF = pd.DataFrame(np.random.randn(16, 5), index=monthlyDates2020, columns=['open', 'high', 'low', 'close', 'volume'])\n",
    "intraDFsp60 = intraDFsp60.head(540)\n",
    "intraDFsp60"
   ]
  },
  {
   "cell_type": "code",
   "execution_count": 92,
   "metadata": {},
   "outputs": [
    {
     "output_type": "execute_result",
     "data": {
      "text/plain": "                           open        high         low       close    volume\nDate & Hour                                                                  \n2020-04-17 15:05:54  23960.6699  23960.6699  23960.6699  23960.6699         0\n2020-04-17 14:30:00  23923.2891  23975.7207  23867.6309  23960.9297  21249013\n2020-04-17 13:30:00  23970.7793  24015.9004  23907.5293  23923.3906  33277379\n2020-04-17 12:30:00  23903.9395  24030.9805  23901.8691  23970.0605  33488591\n2020-04-17 11:30:00  23853.0996  23963.6406  23852.9805  23903.4395  41939805\n...                         ...         ...         ...         ...       ...\n2020-03-30 11:30:00  22142.1699  22169.1309  21985.2305  22149.1699  48837491\n2020-03-30 10:30:00  21841.9004  22144.9395  21820.0605  22143.5098  57427923\n2020-03-30 09:30:00  21678.2207  21891.2207  21522.0801  21845.0195         0\n2020-03-27 15:30:00  22250.8301  22262.2598  21604.4102  21612.6191  77974603\n2020-03-27 14:30:00  21967.9492  22327.5703  21868.4609  22251.8008  55456158\n\n[100 rows x 5 columns]",
      "text/html": "<div>\n<style scoped>\n    .dataframe tbody tr th:only-of-type {\n        vertical-align: middle;\n    }\n\n    .dataframe tbody tr th {\n        vertical-align: top;\n    }\n\n    .dataframe thead th {\n        text-align: right;\n    }\n</style>\n<table border=\"1\" class=\"dataframe\">\n  <thead>\n    <tr style=\"text-align: right;\">\n      <th></th>\n      <th>open</th>\n      <th>high</th>\n      <th>low</th>\n      <th>close</th>\n      <th>volume</th>\n    </tr>\n    <tr>\n      <th>Date &amp; Hour</th>\n      <th></th>\n      <th></th>\n      <th></th>\n      <th></th>\n      <th></th>\n    </tr>\n  </thead>\n  <tbody>\n    <tr>\n      <th>2020-04-17 15:05:54</th>\n      <td>23960.6699</td>\n      <td>23960.6699</td>\n      <td>23960.6699</td>\n      <td>23960.6699</td>\n      <td>0</td>\n    </tr>\n    <tr>\n      <th>2020-04-17 14:30:00</th>\n      <td>23923.2891</td>\n      <td>23975.7207</td>\n      <td>23867.6309</td>\n      <td>23960.9297</td>\n      <td>21249013</td>\n    </tr>\n    <tr>\n      <th>2020-04-17 13:30:00</th>\n      <td>23970.7793</td>\n      <td>24015.9004</td>\n      <td>23907.5293</td>\n      <td>23923.3906</td>\n      <td>33277379</td>\n    </tr>\n    <tr>\n      <th>2020-04-17 12:30:00</th>\n      <td>23903.9395</td>\n      <td>24030.9805</td>\n      <td>23901.8691</td>\n      <td>23970.0605</td>\n      <td>33488591</td>\n    </tr>\n    <tr>\n      <th>2020-04-17 11:30:00</th>\n      <td>23853.0996</td>\n      <td>23963.6406</td>\n      <td>23852.9805</td>\n      <td>23903.4395</td>\n      <td>41939805</td>\n    </tr>\n    <tr>\n      <th>...</th>\n      <td>...</td>\n      <td>...</td>\n      <td>...</td>\n      <td>...</td>\n      <td>...</td>\n    </tr>\n    <tr>\n      <th>2020-03-30 11:30:00</th>\n      <td>22142.1699</td>\n      <td>22169.1309</td>\n      <td>21985.2305</td>\n      <td>22149.1699</td>\n      <td>48837491</td>\n    </tr>\n    <tr>\n      <th>2020-03-30 10:30:00</th>\n      <td>21841.9004</td>\n      <td>22144.9395</td>\n      <td>21820.0605</td>\n      <td>22143.5098</td>\n      <td>57427923</td>\n    </tr>\n    <tr>\n      <th>2020-03-30 09:30:00</th>\n      <td>21678.2207</td>\n      <td>21891.2207</td>\n      <td>21522.0801</td>\n      <td>21845.0195</td>\n      <td>0</td>\n    </tr>\n    <tr>\n      <th>2020-03-27 15:30:00</th>\n      <td>22250.8301</td>\n      <td>22262.2598</td>\n      <td>21604.4102</td>\n      <td>21612.6191</td>\n      <td>77974603</td>\n    </tr>\n    <tr>\n      <th>2020-03-27 14:30:00</th>\n      <td>21967.9492</td>\n      <td>22327.5703</td>\n      <td>21868.4609</td>\n      <td>22251.8008</td>\n      <td>55456158</td>\n    </tr>\n  </tbody>\n</table>\n<p>100 rows × 5 columns</p>\n</div>"
     },
     "metadata": {},
     "execution_count": 92
    }
   ],
   "source": [
    "intraDFdow60 = pd.DataFrame(intraOutput60DOW)\n",
    "intraDFdow60 = intraDFdow60.transpose()\n",
    "intraDFdow60.index.name = 'Date & Hour'\n",
    "intraDFdow60 = intraDFdow60.rename(columns={\"1. open\": \"open\", \"2. high\": \"high\", \"3. low\":\"low\", \"4. close\":\"close\", \"5. volume\":\"volume\", })\n",
    "# weeklyDF = pd.DataFrame(np.random.randn(16, 5), index=monthlyDates2020, columns=['open', 'high', 'low', 'close', 'volume'])\n",
    "intraDFdow60 = intraDFdow60.head(540)\n",
    "intraDFdow60"
   ]
  },
  {
   "cell_type": "code",
   "execution_count": 93,
   "metadata": {},
   "outputs": [
    {
     "output_type": "execute_result",
     "data": {
      "text/plain": "                 open       high        low      close      volume\nDate                                                              \n2020-04-17  2842.4299  2862.1599  2830.8799  2844.7000  2411851790\n2020-04-16  2799.3401  2806.5100  2764.3201  2799.5500  5179990000\n2020-04-15  2795.6399  2801.8799  2761.5400  2783.3601  5203390000\n2020-04-14  2805.1001  2851.8501  2805.1001  2846.0601  5567400000\n2020-04-13  2782.4600  2782.4600  2721.1699  2761.6299  5274310000\n...               ...        ...        ...        ...         ...\n2019-12-13  3166.6499  3182.6799  3156.5100  3168.8000  3736870000\n2019-12-12  3141.2300  3176.2800  3138.4700  3168.5701  3990690000\n2019-12-11  3135.7500  3143.9800  3133.2100  3141.6299  3252540000\n2019-12-10  3135.3601  3142.1201  3126.0901  3132.5200  3343790000\n2019-12-09  3141.8601  3148.8701  3135.4600  3135.9600  3345990000\n\n[90 rows x 5 columns]",
      "text/html": "<div>\n<style scoped>\n    .dataframe tbody tr th:only-of-type {\n        vertical-align: middle;\n    }\n\n    .dataframe tbody tr th {\n        vertical-align: top;\n    }\n\n    .dataframe thead th {\n        text-align: right;\n    }\n</style>\n<table border=\"1\" class=\"dataframe\">\n  <thead>\n    <tr style=\"text-align: right;\">\n      <th></th>\n      <th>open</th>\n      <th>high</th>\n      <th>low</th>\n      <th>close</th>\n      <th>volume</th>\n    </tr>\n    <tr>\n      <th>Date</th>\n      <th></th>\n      <th></th>\n      <th></th>\n      <th></th>\n      <th></th>\n    </tr>\n  </thead>\n  <tbody>\n    <tr>\n      <th>2020-04-17</th>\n      <td>2842.4299</td>\n      <td>2862.1599</td>\n      <td>2830.8799</td>\n      <td>2844.7000</td>\n      <td>2411851790</td>\n    </tr>\n    <tr>\n      <th>2020-04-16</th>\n      <td>2799.3401</td>\n      <td>2806.5100</td>\n      <td>2764.3201</td>\n      <td>2799.5500</td>\n      <td>5179990000</td>\n    </tr>\n    <tr>\n      <th>2020-04-15</th>\n      <td>2795.6399</td>\n      <td>2801.8799</td>\n      <td>2761.5400</td>\n      <td>2783.3601</td>\n      <td>5203390000</td>\n    </tr>\n    <tr>\n      <th>2020-04-14</th>\n      <td>2805.1001</td>\n      <td>2851.8501</td>\n      <td>2805.1001</td>\n      <td>2846.0601</td>\n      <td>5567400000</td>\n    </tr>\n    <tr>\n      <th>2020-04-13</th>\n      <td>2782.4600</td>\n      <td>2782.4600</td>\n      <td>2721.1699</td>\n      <td>2761.6299</td>\n      <td>5274310000</td>\n    </tr>\n    <tr>\n      <th>...</th>\n      <td>...</td>\n      <td>...</td>\n      <td>...</td>\n      <td>...</td>\n      <td>...</td>\n    </tr>\n    <tr>\n      <th>2019-12-13</th>\n      <td>3166.6499</td>\n      <td>3182.6799</td>\n      <td>3156.5100</td>\n      <td>3168.8000</td>\n      <td>3736870000</td>\n    </tr>\n    <tr>\n      <th>2019-12-12</th>\n      <td>3141.2300</td>\n      <td>3176.2800</td>\n      <td>3138.4700</td>\n      <td>3168.5701</td>\n      <td>3990690000</td>\n    </tr>\n    <tr>\n      <th>2019-12-11</th>\n      <td>3135.7500</td>\n      <td>3143.9800</td>\n      <td>3133.2100</td>\n      <td>3141.6299</td>\n      <td>3252540000</td>\n    </tr>\n    <tr>\n      <th>2019-12-10</th>\n      <td>3135.3601</td>\n      <td>3142.1201</td>\n      <td>3126.0901</td>\n      <td>3132.5200</td>\n      <td>3343790000</td>\n    </tr>\n    <tr>\n      <th>2019-12-09</th>\n      <td>3141.8601</td>\n      <td>3148.8701</td>\n      <td>3135.4600</td>\n      <td>3135.9600</td>\n      <td>3345990000</td>\n    </tr>\n  </tbody>\n</table>\n<p>90 rows × 5 columns</p>\n</div>"
     },
     "metadata": {},
     "execution_count": 93
    }
   ],
   "source": [
    "dailyDFsp = pd.DataFrame(dailyOutputSP)\n",
    "dailyDFsp = dailyDFsp.transpose()\n",
    "dailyDFsp.index.name = 'Date'\n",
    "dailyDFsp = dailyDFsp.rename(columns={\"1. open\": \"open\", \"2. high\": \"high\", \"3. low\":\"low\", \"4. close\":\"close\", \"5. volume\":\"volume\", })\n",
    "# weeklyDF = pd.DataFrame(np.random.randn(16, 5), index=monthlyDates2020, columns=['open', 'high', 'low', 'close', 'volume'])\n",
    "dailyDFsp = dailyDFsp.head(90)\n",
    "dailyDFsp"
   ]
  },
  {
   "cell_type": "code",
   "execution_count": 94,
   "metadata": {},
   "outputs": [
    {
     "output_type": "execute_result",
     "data": {
      "text/plain": "                  open        high         low       close     volume\nDate                                                                 \n2020-04-17  23817.1504  24150.1992  23817.1992  23958.6602  357322008\n2020-04-16  23543.6602  23598.0801  23211.3809  23537.6797  471050000\n2020-04-15  23600.7207  23649.7207  23233.3203  23504.3496  437630000\n2020-04-14  23690.5703  24040.5801  23683.4395  23949.7598  485910000\n2020-04-13  23698.9297  23698.9297  23095.3496  23390.7695  394320000\n...                ...         ...         ...         ...        ...\n2019-12-13  28123.6406  28290.7305  28028.3203  28135.3809  250660000\n2019-12-12  27898.3398  28224.9492  27859.8691  28132.0508  277740000\n2019-12-11  27867.3105  27925.5000  27801.8008  27911.3008  213510000\n2019-12-10  27900.6504  27949.0195  27804.0000  27881.7207  213250000\n2019-12-09  27987.0508  28010.4199  27906.1406  27909.5996  217000000\n\n[90 rows x 5 columns]",
      "text/html": "<div>\n<style scoped>\n    .dataframe tbody tr th:only-of-type {\n        vertical-align: middle;\n    }\n\n    .dataframe tbody tr th {\n        vertical-align: top;\n    }\n\n    .dataframe thead th {\n        text-align: right;\n    }\n</style>\n<table border=\"1\" class=\"dataframe\">\n  <thead>\n    <tr style=\"text-align: right;\">\n      <th></th>\n      <th>open</th>\n      <th>high</th>\n      <th>low</th>\n      <th>close</th>\n      <th>volume</th>\n    </tr>\n    <tr>\n      <th>Date</th>\n      <th></th>\n      <th></th>\n      <th></th>\n      <th></th>\n      <th></th>\n    </tr>\n  </thead>\n  <tbody>\n    <tr>\n      <th>2020-04-17</th>\n      <td>23817.1504</td>\n      <td>24150.1992</td>\n      <td>23817.1992</td>\n      <td>23958.6602</td>\n      <td>357322008</td>\n    </tr>\n    <tr>\n      <th>2020-04-16</th>\n      <td>23543.6602</td>\n      <td>23598.0801</td>\n      <td>23211.3809</td>\n      <td>23537.6797</td>\n      <td>471050000</td>\n    </tr>\n    <tr>\n      <th>2020-04-15</th>\n      <td>23600.7207</td>\n      <td>23649.7207</td>\n      <td>23233.3203</td>\n      <td>23504.3496</td>\n      <td>437630000</td>\n    </tr>\n    <tr>\n      <th>2020-04-14</th>\n      <td>23690.5703</td>\n      <td>24040.5801</td>\n      <td>23683.4395</td>\n      <td>23949.7598</td>\n      <td>485910000</td>\n    </tr>\n    <tr>\n      <th>2020-04-13</th>\n      <td>23698.9297</td>\n      <td>23698.9297</td>\n      <td>23095.3496</td>\n      <td>23390.7695</td>\n      <td>394320000</td>\n    </tr>\n    <tr>\n      <th>...</th>\n      <td>...</td>\n      <td>...</td>\n      <td>...</td>\n      <td>...</td>\n      <td>...</td>\n    </tr>\n    <tr>\n      <th>2019-12-13</th>\n      <td>28123.6406</td>\n      <td>28290.7305</td>\n      <td>28028.3203</td>\n      <td>28135.3809</td>\n      <td>250660000</td>\n    </tr>\n    <tr>\n      <th>2019-12-12</th>\n      <td>27898.3398</td>\n      <td>28224.9492</td>\n      <td>27859.8691</td>\n      <td>28132.0508</td>\n      <td>277740000</td>\n    </tr>\n    <tr>\n      <th>2019-12-11</th>\n      <td>27867.3105</td>\n      <td>27925.5000</td>\n      <td>27801.8008</td>\n      <td>27911.3008</td>\n      <td>213510000</td>\n    </tr>\n    <tr>\n      <th>2019-12-10</th>\n      <td>27900.6504</td>\n      <td>27949.0195</td>\n      <td>27804.0000</td>\n      <td>27881.7207</td>\n      <td>213250000</td>\n    </tr>\n    <tr>\n      <th>2019-12-09</th>\n      <td>27987.0508</td>\n      <td>28010.4199</td>\n      <td>27906.1406</td>\n      <td>27909.5996</td>\n      <td>217000000</td>\n    </tr>\n  </tbody>\n</table>\n<p>90 rows × 5 columns</p>\n</div>"
     },
     "metadata": {},
     "execution_count": 94
    }
   ],
   "source": [
    "dailyDFdow = pd.DataFrame(dailyOutputDOW)\n",
    "dailyDFdow = dailyDFdow.transpose()\n",
    "dailyDFdow.index.name = 'Date'\n",
    "dailyDFdow = dailyDFdow.rename(columns={\"1. open\": \"open\", \"2. high\": \"high\", \"3. low\":\"low\", \"4. close\":\"close\", \"5. volume\":\"volume\", })\n",
    "# dailyDF = pd.DataFrame(np.random.randn(16, 5), index=monthlyDates2020, columns=['open', 'high', 'low', 'close', 'volume'])\n",
    "dailyDFdow = dailyDFdow.head(90)\n",
    "dailyDFdow"
   ]
  },
  {
   "cell_type": "code",
   "execution_count": 95,
   "metadata": {},
   "outputs": [
    {
     "output_type": "execute_result",
     "data": {
      "text/plain": "                    open       high        low      close       volume\nWeek End Date                                                         \n2020-04-17     2782.4600  2862.1599  2721.1699  2844.5901  23637115457\n2020-04-09     2578.2800  2818.5701  2574.5701  2789.8201  27169090000\n2020-04-03     2558.9800  2641.3899  2447.4900  2488.6499  30804590000\n2020-03-27     2290.7100  2637.0100  2191.8601  2541.4700  37182690000\n2020-03-20     2508.5901  2562.9800  2280.5200  2304.9199  41887220000\n2020-03-13     2863.8899  2882.5901  2478.8601  2711.0200  40521170000\n2020-03-06     2974.2800  3136.7200  2901.5400  2972.3701  29895510000\n2020-02-28     3257.6101  3259.8101  2855.8401  2954.2200  31535270000\n2020-02-21     3369.0400  3393.5200  3328.4500  3337.7500  15253460000\n2020-02-14     3318.2800  3385.0901  3317.7700  3380.1599  18033560000\n2020-02-07     3235.6599  3347.9600  3235.6599  3327.7100  19469980000\n2020-01-31     3247.1599  3293.4700  3214.6799  3225.5200  19249400000\n2020-01-24     3321.0300  3337.7700  3281.5300  3295.4700  15197180000\n2020-01-17     3271.1299  3329.8799  3268.4299  3329.6201  18071600000\n2020-01-10     3217.5500  3282.9900  3214.6399  3265.3501  17666700000\n2020-01-03     3240.0901  3258.1399  3212.0300  3234.8501  12826640000\n2019-12-27     3226.0500  3247.9299  3220.5100  3240.0200   8946500000\n2019-12-20     3183.6299  3225.6499  3183.6299  3221.2200  22078130000",
      "text/html": "<div>\n<style scoped>\n    .dataframe tbody tr th:only-of-type {\n        vertical-align: middle;\n    }\n\n    .dataframe tbody tr th {\n        vertical-align: top;\n    }\n\n    .dataframe thead th {\n        text-align: right;\n    }\n</style>\n<table border=\"1\" class=\"dataframe\">\n  <thead>\n    <tr style=\"text-align: right;\">\n      <th></th>\n      <th>open</th>\n      <th>high</th>\n      <th>low</th>\n      <th>close</th>\n      <th>volume</th>\n    </tr>\n    <tr>\n      <th>Week End Date</th>\n      <th></th>\n      <th></th>\n      <th></th>\n      <th></th>\n      <th></th>\n    </tr>\n  </thead>\n  <tbody>\n    <tr>\n      <th>2020-04-17</th>\n      <td>2782.4600</td>\n      <td>2862.1599</td>\n      <td>2721.1699</td>\n      <td>2844.5901</td>\n      <td>23637115457</td>\n    </tr>\n    <tr>\n      <th>2020-04-09</th>\n      <td>2578.2800</td>\n      <td>2818.5701</td>\n      <td>2574.5701</td>\n      <td>2789.8201</td>\n      <td>27169090000</td>\n    </tr>\n    <tr>\n      <th>2020-04-03</th>\n      <td>2558.9800</td>\n      <td>2641.3899</td>\n      <td>2447.4900</td>\n      <td>2488.6499</td>\n      <td>30804590000</td>\n    </tr>\n    <tr>\n      <th>2020-03-27</th>\n      <td>2290.7100</td>\n      <td>2637.0100</td>\n      <td>2191.8601</td>\n      <td>2541.4700</td>\n      <td>37182690000</td>\n    </tr>\n    <tr>\n      <th>2020-03-20</th>\n      <td>2508.5901</td>\n      <td>2562.9800</td>\n      <td>2280.5200</td>\n      <td>2304.9199</td>\n      <td>41887220000</td>\n    </tr>\n    <tr>\n      <th>2020-03-13</th>\n      <td>2863.8899</td>\n      <td>2882.5901</td>\n      <td>2478.8601</td>\n      <td>2711.0200</td>\n      <td>40521170000</td>\n    </tr>\n    <tr>\n      <th>2020-03-06</th>\n      <td>2974.2800</td>\n      <td>3136.7200</td>\n      <td>2901.5400</td>\n      <td>2972.3701</td>\n      <td>29895510000</td>\n    </tr>\n    <tr>\n      <th>2020-02-28</th>\n      <td>3257.6101</td>\n      <td>3259.8101</td>\n      <td>2855.8401</td>\n      <td>2954.2200</td>\n      <td>31535270000</td>\n    </tr>\n    <tr>\n      <th>2020-02-21</th>\n      <td>3369.0400</td>\n      <td>3393.5200</td>\n      <td>3328.4500</td>\n      <td>3337.7500</td>\n      <td>15253460000</td>\n    </tr>\n    <tr>\n      <th>2020-02-14</th>\n      <td>3318.2800</td>\n      <td>3385.0901</td>\n      <td>3317.7700</td>\n      <td>3380.1599</td>\n      <td>18033560000</td>\n    </tr>\n    <tr>\n      <th>2020-02-07</th>\n      <td>3235.6599</td>\n      <td>3347.9600</td>\n      <td>3235.6599</td>\n      <td>3327.7100</td>\n      <td>19469980000</td>\n    </tr>\n    <tr>\n      <th>2020-01-31</th>\n      <td>3247.1599</td>\n      <td>3293.4700</td>\n      <td>3214.6799</td>\n      <td>3225.5200</td>\n      <td>19249400000</td>\n    </tr>\n    <tr>\n      <th>2020-01-24</th>\n      <td>3321.0300</td>\n      <td>3337.7700</td>\n      <td>3281.5300</td>\n      <td>3295.4700</td>\n      <td>15197180000</td>\n    </tr>\n    <tr>\n      <th>2020-01-17</th>\n      <td>3271.1299</td>\n      <td>3329.8799</td>\n      <td>3268.4299</td>\n      <td>3329.6201</td>\n      <td>18071600000</td>\n    </tr>\n    <tr>\n      <th>2020-01-10</th>\n      <td>3217.5500</td>\n      <td>3282.9900</td>\n      <td>3214.6399</td>\n      <td>3265.3501</td>\n      <td>17666700000</td>\n    </tr>\n    <tr>\n      <th>2020-01-03</th>\n      <td>3240.0901</td>\n      <td>3258.1399</td>\n      <td>3212.0300</td>\n      <td>3234.8501</td>\n      <td>12826640000</td>\n    </tr>\n    <tr>\n      <th>2019-12-27</th>\n      <td>3226.0500</td>\n      <td>3247.9299</td>\n      <td>3220.5100</td>\n      <td>3240.0200</td>\n      <td>8946500000</td>\n    </tr>\n    <tr>\n      <th>2019-12-20</th>\n      <td>3183.6299</td>\n      <td>3225.6499</td>\n      <td>3183.6299</td>\n      <td>3221.2200</td>\n      <td>22078130000</td>\n    </tr>\n  </tbody>\n</table>\n</div>"
     },
     "metadata": {},
     "execution_count": 95
    }
   ],
   "source": [
    "weeklyDFsp = pd.DataFrame(weeklyOutputSP)\n",
    "weeklyDFsp = weeklyDFsp.transpose()\n",
    "weeklyDFsp.index.name = 'Week End Date'\n",
    "weeklyDFsp = weeklyDFsp.rename(columns={\"1. open\": \"open\", \"2. high\": \"high\", \"3. low\":\"low\", \"4. close\":\"close\", \"5. volume\":\"volume\", })\n",
    "# weeklyDFsp = pd.DataFrame(np.random.randn(16, 5), index=monthlyDates2020, columns=['open', 'high', 'low', 'close', 'volume'])\n",
    "weeklyDFsp = weeklyDFsp.head(18)\n",
    "weeklyDFsp"
   ]
  },
  {
   "cell_type": "code",
   "execution_count": 96,
   "metadata": {},
   "outputs": [
    {
     "output_type": "execute_result",
     "data": {
      "text/plain": "                     open        high         low       close      volume\nWeek End Date                                                            \n2020-04-17     23698.9297  24150.1992  10000.0000  23960.8008  2146799364\n2020-04-09     21693.6309  24008.9902  21693.6309  23719.3691  2244560000\n2020-04-03     21678.2207  22480.3691  20735.0195  21052.5293  2602980000\n2020-03-27     19028.3594  22595.0605  18213.6504  21636.7793  3677640000\n2020-03-20     20917.5293  21768.2793  18917.4609  19173.9805  4087140000\n2020-03-13     24992.3594  25020.9902  21154.4609  23185.6191  3820590000\n2020-03-06     25590.5098  27102.3398  25226.6191  25864.7793  2819020000\n2020-02-28     28402.9297  28402.9297  24681.0098  25409.3594  3019270000\n2020-02-21     29282.7793  29409.0898  28892.6992  28992.4102  1096230000\n2020-02-14     28995.6602  29568.5703  28995.6602  29398.0801  1361730000\n2020-02-07     28319.6504  29408.0508  28319.6504  29102.5098  1514760000\n2020-01-31     28542.4902  28944.2402  28169.5293  28256.0293  1700440000\n2020-01-24     29269.0508  29341.2109  28843.3105  28989.7305  1291150000\n2020-01-17     28869.0098  29373.6191  28819.4297  29348.0996  1371470000\n2020-01-10     28465.5000  29009.0703  28418.6309  28823.7695  1316300000\n2020-01-03     28654.7598  28872.8008  28376.4902  28634.8809   866350000\n2019-12-27     28491.7793  28701.6602  28491.7793  28645.2598   647930000\n2019-12-20     28191.6699  28608.6406  28191.6699  28455.0898  1729780000",
      "text/html": "<div>\n<style scoped>\n    .dataframe tbody tr th:only-of-type {\n        vertical-align: middle;\n    }\n\n    .dataframe tbody tr th {\n        vertical-align: top;\n    }\n\n    .dataframe thead th {\n        text-align: right;\n    }\n</style>\n<table border=\"1\" class=\"dataframe\">\n  <thead>\n    <tr style=\"text-align: right;\">\n      <th></th>\n      <th>open</th>\n      <th>high</th>\n      <th>low</th>\n      <th>close</th>\n      <th>volume</th>\n    </tr>\n    <tr>\n      <th>Week End Date</th>\n      <th></th>\n      <th></th>\n      <th></th>\n      <th></th>\n      <th></th>\n    </tr>\n  </thead>\n  <tbody>\n    <tr>\n      <th>2020-04-17</th>\n      <td>23698.9297</td>\n      <td>24150.1992</td>\n      <td>10000.0000</td>\n      <td>23960.8008</td>\n      <td>2146799364</td>\n    </tr>\n    <tr>\n      <th>2020-04-09</th>\n      <td>21693.6309</td>\n      <td>24008.9902</td>\n      <td>21693.6309</td>\n      <td>23719.3691</td>\n      <td>2244560000</td>\n    </tr>\n    <tr>\n      <th>2020-04-03</th>\n      <td>21678.2207</td>\n      <td>22480.3691</td>\n      <td>20735.0195</td>\n      <td>21052.5293</td>\n      <td>2602980000</td>\n    </tr>\n    <tr>\n      <th>2020-03-27</th>\n      <td>19028.3594</td>\n      <td>22595.0605</td>\n      <td>18213.6504</td>\n      <td>21636.7793</td>\n      <td>3677640000</td>\n    </tr>\n    <tr>\n      <th>2020-03-20</th>\n      <td>20917.5293</td>\n      <td>21768.2793</td>\n      <td>18917.4609</td>\n      <td>19173.9805</td>\n      <td>4087140000</td>\n    </tr>\n    <tr>\n      <th>2020-03-13</th>\n      <td>24992.3594</td>\n      <td>25020.9902</td>\n      <td>21154.4609</td>\n      <td>23185.6191</td>\n      <td>3820590000</td>\n    </tr>\n    <tr>\n      <th>2020-03-06</th>\n      <td>25590.5098</td>\n      <td>27102.3398</td>\n      <td>25226.6191</td>\n      <td>25864.7793</td>\n      <td>2819020000</td>\n    </tr>\n    <tr>\n      <th>2020-02-28</th>\n      <td>28402.9297</td>\n      <td>28402.9297</td>\n      <td>24681.0098</td>\n      <td>25409.3594</td>\n      <td>3019270000</td>\n    </tr>\n    <tr>\n      <th>2020-02-21</th>\n      <td>29282.7793</td>\n      <td>29409.0898</td>\n      <td>28892.6992</td>\n      <td>28992.4102</td>\n      <td>1096230000</td>\n    </tr>\n    <tr>\n      <th>2020-02-14</th>\n      <td>28995.6602</td>\n      <td>29568.5703</td>\n      <td>28995.6602</td>\n      <td>29398.0801</td>\n      <td>1361730000</td>\n    </tr>\n    <tr>\n      <th>2020-02-07</th>\n      <td>28319.6504</td>\n      <td>29408.0508</td>\n      <td>28319.6504</td>\n      <td>29102.5098</td>\n      <td>1514760000</td>\n    </tr>\n    <tr>\n      <th>2020-01-31</th>\n      <td>28542.4902</td>\n      <td>28944.2402</td>\n      <td>28169.5293</td>\n      <td>28256.0293</td>\n      <td>1700440000</td>\n    </tr>\n    <tr>\n      <th>2020-01-24</th>\n      <td>29269.0508</td>\n      <td>29341.2109</td>\n      <td>28843.3105</td>\n      <td>28989.7305</td>\n      <td>1291150000</td>\n    </tr>\n    <tr>\n      <th>2020-01-17</th>\n      <td>28869.0098</td>\n      <td>29373.6191</td>\n      <td>28819.4297</td>\n      <td>29348.0996</td>\n      <td>1371470000</td>\n    </tr>\n    <tr>\n      <th>2020-01-10</th>\n      <td>28465.5000</td>\n      <td>29009.0703</td>\n      <td>28418.6309</td>\n      <td>28823.7695</td>\n      <td>1316300000</td>\n    </tr>\n    <tr>\n      <th>2020-01-03</th>\n      <td>28654.7598</td>\n      <td>28872.8008</td>\n      <td>28376.4902</td>\n      <td>28634.8809</td>\n      <td>866350000</td>\n    </tr>\n    <tr>\n      <th>2019-12-27</th>\n      <td>28491.7793</td>\n      <td>28701.6602</td>\n      <td>28491.7793</td>\n      <td>28645.2598</td>\n      <td>647930000</td>\n    </tr>\n    <tr>\n      <th>2019-12-20</th>\n      <td>28191.6699</td>\n      <td>28608.6406</td>\n      <td>28191.6699</td>\n      <td>28455.0898</td>\n      <td>1729780000</td>\n    </tr>\n  </tbody>\n</table>\n</div>"
     },
     "metadata": {},
     "execution_count": 96
    }
   ],
   "source": [
    "weeklyDFdow = pd.DataFrame(weeklyOutputDOW)\n",
    "weeklyDFdow = weeklyDFdow.transpose()\n",
    "weeklyDFdow.index.name = 'Week End Date'\n",
    "weeklyDFdow = weeklyDFdow.rename(columns={\"1. open\": \"open\", \"2. high\": \"high\", \"3. low\":\"low\", \"4. close\":\"close\", \"5. volume\":\"volume\", })\n",
    "# weeklyDF = pd.DataFrame(np.random.randn(16, 5), index=monthlyDates2020, columns=['open', 'high', 'low', 'close', 'volume'])\n",
    "weeklyDFdow = weeklyDFdow.head(18)\n",
    "weeklyDFdow"
   ]
  },
  {
   "cell_type": "code",
   "execution_count": 97,
   "metadata": {},
   "outputs": [
    {
     "output_type": "execute_result",
     "data": {
      "text/plain": "                     open       high        low      close        volume\nMonth End Date                                                          \n2020-04-17      2498.0801  2862.1599  2447.4900  2844.7900   69300563576\n2020-03-31      2974.2800  3136.7200  2191.8601  2584.5901  161801100000\n2020-02-28      3235.6599  3393.5200  2855.8401  2954.2200   84292270000\n2020-01-31      3244.6699  3337.7700  3214.6399  3225.5200   77104420000",
      "text/html": "<div>\n<style scoped>\n    .dataframe tbody tr th:only-of-type {\n        vertical-align: middle;\n    }\n\n    .dataframe tbody tr th {\n        vertical-align: top;\n    }\n\n    .dataframe thead th {\n        text-align: right;\n    }\n</style>\n<table border=\"1\" class=\"dataframe\">\n  <thead>\n    <tr style=\"text-align: right;\">\n      <th></th>\n      <th>open</th>\n      <th>high</th>\n      <th>low</th>\n      <th>close</th>\n      <th>volume</th>\n    </tr>\n    <tr>\n      <th>Month End Date</th>\n      <th></th>\n      <th></th>\n      <th></th>\n      <th></th>\n      <th></th>\n    </tr>\n  </thead>\n  <tbody>\n    <tr>\n      <th>2020-04-17</th>\n      <td>2498.0801</td>\n      <td>2862.1599</td>\n      <td>2447.4900</td>\n      <td>2844.7900</td>\n      <td>69300563576</td>\n    </tr>\n    <tr>\n      <th>2020-03-31</th>\n      <td>2974.2800</td>\n      <td>3136.7200</td>\n      <td>2191.8601</td>\n      <td>2584.5901</td>\n      <td>161801100000</td>\n    </tr>\n    <tr>\n      <th>2020-02-28</th>\n      <td>3235.6599</td>\n      <td>3393.5200</td>\n      <td>2855.8401</td>\n      <td>2954.2200</td>\n      <td>84292270000</td>\n    </tr>\n    <tr>\n      <th>2020-01-31</th>\n      <td>3244.6699</td>\n      <td>3337.7700</td>\n      <td>3214.6399</td>\n      <td>3225.5200</td>\n      <td>77104420000</td>\n    </tr>\n  </tbody>\n</table>\n</div>"
     },
     "metadata": {},
     "execution_count": 97
    }
   ],
   "source": [
    "monthlyDFsp = pd.DataFrame(monthlyOutputSP)\n",
    "monthlyDFsp = monthlyDFsp.transpose()\n",
    "monthlyDFsp.index.name = 'Month End Date'\n",
    "monthlyDFsp = monthlyDFsp.rename(columns={\"1. open\": \"open\", \"2. high\": \"high\", \"3. low\":\"low\", \"4. close\":\"close\", \"5. volume\":\"volume\", })\n",
    "# monthlyDF = pd.DataFrame(np.random.randn(4, 5), index=monthlyDates2020, columns=['open', 'high', 'low', 'close', 'volume'])\n",
    "monthlyDFsp = monthlyDFsp.head(4)\n",
    "monthlyDFsp"
   ]
  },
  {
   "cell_type": "code",
   "execution_count": 98,
   "metadata": {},
   "outputs": [
    {
     "output_type": "execute_result",
     "data": {
      "text/plain": "                      open        high         low       close       volume\nMonth End Date                                                             \n2020-04-17      21227.3809  24150.1992  10000.0000  23956.2207   5877773760\n2020-03-31      25590.5098  27102.3398  18213.6504  21917.1602  15521140000\n2020-02-28      28319.6504  29568.5703  24681.0098  25409.3594   6991990000\n2020-01-31      28638.9707  29373.6191  28169.5293  28256.0293   6170770000",
      "text/html": "<div>\n<style scoped>\n    .dataframe tbody tr th:only-of-type {\n        vertical-align: middle;\n    }\n\n    .dataframe tbody tr th {\n        vertical-align: top;\n    }\n\n    .dataframe thead th {\n        text-align: right;\n    }\n</style>\n<table border=\"1\" class=\"dataframe\">\n  <thead>\n    <tr style=\"text-align: right;\">\n      <th></th>\n      <th>open</th>\n      <th>high</th>\n      <th>low</th>\n      <th>close</th>\n      <th>volume</th>\n    </tr>\n    <tr>\n      <th>Month End Date</th>\n      <th></th>\n      <th></th>\n      <th></th>\n      <th></th>\n      <th></th>\n    </tr>\n  </thead>\n  <tbody>\n    <tr>\n      <th>2020-04-17</th>\n      <td>21227.3809</td>\n      <td>24150.1992</td>\n      <td>10000.0000</td>\n      <td>23956.2207</td>\n      <td>5877773760</td>\n    </tr>\n    <tr>\n      <th>2020-03-31</th>\n      <td>25590.5098</td>\n      <td>27102.3398</td>\n      <td>18213.6504</td>\n      <td>21917.1602</td>\n      <td>15521140000</td>\n    </tr>\n    <tr>\n      <th>2020-02-28</th>\n      <td>28319.6504</td>\n      <td>29568.5703</td>\n      <td>24681.0098</td>\n      <td>25409.3594</td>\n      <td>6991990000</td>\n    </tr>\n    <tr>\n      <th>2020-01-31</th>\n      <td>28638.9707</td>\n      <td>29373.6191</td>\n      <td>28169.5293</td>\n      <td>28256.0293</td>\n      <td>6170770000</td>\n    </tr>\n  </tbody>\n</table>\n</div>"
     },
     "metadata": {},
     "execution_count": 98
    }
   ],
   "source": [
    "monthlyDFdow = pd.DataFrame(monthlyOutputDOW)\n",
    "monthlyDFdow = monthlyDFdow.transpose()\n",
    "monthlyDFdow.index.name = 'Month End Date'\n",
    "monthlyDFdow = monthlyDFdow.rename(columns={\"1. open\": \"open\", \"2. high\": \"high\", \"3. low\":\"low\", \"4. close\":\"close\", \"5. volume\":\"volume\", })\n",
    "# monthlyDF = pd.DataFrame(np.random.randn(4, 5), index=monthlyDates2020, columns=['open', 'high', 'low', 'close', 'volume'])\n",
    "monthlyDFdow = monthlyDFdow.head(4)\n",
    "monthlyDFdow"
   ]
  },
  {
   "cell_type": "code",
   "execution_count": 99,
   "metadata": {},
   "outputs": [],
   "source": [
    "intraDFsp60.to_json(\"IntraDayCovidStocks_60min_SP500.json\", orient='index')\n",
    "dailyDFsp.to_json(\"DailyCovidStocks_SP500.json\", orient='index')\n",
    "weeklyDFsp.to_json(\"WeeklyCovidStocks_SP500.json\", orient='index')\n",
    "monthlyDFsp.to_json(\"MonthlyCovidStocks_SP500.json\", orient='index')"
   ]
  },
  {
   "cell_type": "code",
   "execution_count": 100,
   "metadata": {},
   "outputs": [],
   "source": [
    "intraDFdow60.to_json(\"IntraDayCovidStocks_60min_DOWindustrial.json\", orient='index')\n",
    "dailyDFdow.to_json(\"DailyCovidStocks_DOWindustrial.json\", orient='index')\n",
    "weeklyDFdow.to_json(\"WeeklyCovidStocks_DOWindustrial.json\", orient='index')\n",
    "monthlyDFdow.to_json(\"MonthlyCovidStocks_DOWindustrial.json\", orient='index')"
   ]
  },
  {
   "cell_type": "code",
   "execution_count": 101,
   "metadata": {},
   "outputs": [],
   "source": [
    "intraDFsp60.to_csv(\"IntraDayCovidStocks_SP500.csv\")\n",
    "dailyDFsp.to_csv(\"DailyCovidStocks_SP500.csv\")\n",
    "weeklyDFsp.to_csv(\"WeeklyCovidStocks_SP500.csv\")\n",
    "monthlyDFsp.to_csv(\"MonthlyCovidStocks_SP500.csv\")"
   ]
  },
  {
   "cell_type": "code",
   "execution_count": 102,
   "metadata": {},
   "outputs": [],
   "source": [
    "intraDFdow60.to_csv(\"IntraDayCovidStocks_DOWindustrial.csv\")\n",
    "dailyDFdow.to_csv(\"DailyCovidStocks_DOWindustrial.csv\")\n",
    "weeklyDFdow.to_csv(\"WeeklyCovidStocks_DOWindustrial.csv\")\n",
    "monthlyDFdow.to_csv(\"MonthlyCovidStocks_DOWindustrial.csv\")"
   ]
  }
 ],
 "metadata": {
  "file_extension": ".py",
  "kernelspec": {
   "display_name": "Python 3.6.9 64-bit ('PythonData': conda)",
   "language": "python",
   "name": "python36964bitpythondataconda82cd0c38896b45efa2efbf866fc58dd7"
  },
  "language_info": {
   "codemirror_mode": {
    "name": "ipython",
    "version": 3
   },
   "file_extension": ".py",
   "mimetype": "text/x-python",
   "name": "python",
   "nbconvert_exporter": "python",
   "pygments_lexer": "ipython3",
   "version": "3.7.4-final"
  },
  "mimetype": "text/x-python",
  "name": "python",
  "npconvert_exporter": "python",
  "pygments_lexer": "ipython3",
  "version": 3
 },
 "nbformat": 4,
 "nbformat_minor": 2
}