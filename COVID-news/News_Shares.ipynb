{
 "cells": [
  {
   "cell_type": "code",
   "execution_count": 1,
   "metadata": {},
   "outputs": [],
   "source": [
    "#Import dependencies\n",
    "import pandas as pd\n",
    "import json\n",
    "from pprint import pprint as pp\n",
    "import pymongo\n",
    "from pymongo import MongoClient\n",
    "from pandas.io.json import json_normalize"
   ]
  },
  {
   "cell_type": "code",
   "execution_count": 2,
   "metadata": {},
   "outputs": [],
   "source": [
    "#Set up mongodb connection\n",
    "conn = 'mongodb://localhost:27017'\n",
    "client = pymongo.MongoClient(conn)\n",
    "\n",
    "db = client.pro3news\n",
    "collection = db.shares"
   ]
  },
  {
   "cell_type": "code",
   "execution_count": 3,
   "metadata": {},
   "outputs": [],
   "source": [
    "#Loop through Newspaper json files\n",
    "newspapers = ['Breitbart','Business_Insider','Fox News','Financial Times','MarketWatch','NYTimes','Reuters','The Guardian','WSJ']\n",
    "times = ['1_1','1_2','1_3','1_4','2_1','2_2','2_3','2_4','3_1','3_2','3_3','3_4','4_1','4_2']\n",
    "\n",
    "for paper in newspapers:\n",
    "    for time in times:\n",
    "        with open(paper+'/'+time+'.json') as json_file:\n",
    "            news_data = json.load(json_file)"
   ]
  },
  {
   "cell_type": "code",
   "execution_count": 4,
   "metadata": {},
   "outputs": [],
   "source": [
    "#Normalize the json data\n",
    "for data in news_data['articles']['results']:\n",
    "    total_data_df = pd.DataFrame.from_dict(json_normalize(data), orient='columns')\n"
   ]
  },
  {
   "cell_type": "code",
   "execution_count": 5,
   "metadata": {},
   "outputs": [],
   "source": [
    "#Pull the News Share columns and rename them\n",
    "news_shares_df = total_data_df.loc[:,['source.title','date','title','shares.facebook']]\n",
    "news_shares_df.rename(columns={'source.title':'newspaper',\n",
    "                                'shares.facebook':'shares'},\n",
    "                     inplace=True)\n"
   ]
  },
  {
   "cell_type": "code",
   "execution_count": 9,
   "metadata": {},
   "outputs": [
    {
     "data": {
      "text/plain": [
       "<pymongo.results.InsertManyResult at 0x1de3d3d6e08>"
      ]
     },
     "execution_count": 9,
     "metadata": {},
     "output_type": "execute_result"
    }
   ],
   "source": [
    "#Change dataframe back to json\n",
    "news_shares_dict = {}\n",
    "news_shares_dict = news_shares_df.to_dict('records')\n",
    "\n",
    "#Add the data to mongodb\n",
    "collection.insert_many(news_shares_dict)\n",
    "\n"
   ]
  }
 ],
 "metadata": {
  "kernelspec": {
   "display_name": "Python [conda env:.conda-PythonData]",
   "language": "python",
   "name": "conda-env-.conda-PythonData-py"
  },
  "language_info": {
   "codemirror_mode": {
    "name": "ipython",
    "version": 3
   },
   "file_extension": ".py",
   "mimetype": "text/x-python",
   "name": "python",
   "nbconvert_exporter": "python",
   "pygments_lexer": "ipython3",
   "version": "3.6.9"
  }
 },
 "nbformat": 4,
 "nbformat_minor": 2
}
