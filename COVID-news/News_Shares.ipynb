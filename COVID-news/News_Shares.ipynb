{
 "cells": [
  {
   "cell_type": "code",
   "execution_count": 1,
   "metadata": {},
   "outputs": [],
   "source": [
    "#Import dependencies\n",
    "import pandas as pd\n",
    "import json\n",
    "from pprint import pprint as pp\n",
    "import pymongo\n",
    "from pymongo import MongoClient\n",
    "from pandas.io.json import json_normalize"
   ]
  },
  {
   "cell_type": "code",
   "execution_count": 2,
   "metadata": {},
   "outputs": [],
   "source": [
    "#Set up mongodb connection\n",
    "conn = 'mongodb://localhost:27017'\n",
    "client = pymongo.MongoClient(conn)\n",
    "\n",
    "db = client.pro3news\n",
    "collection = db.shares"
   ]
  },
  {
   "cell_type": "code",
   "execution_count": 3,
   "metadata": {},
   "outputs": [],
   "source": [
    "#Loop through Newspaper json files\n",
    "newspapers = ['Breitbart','Business_Insider','Fox News','Financial Times','MarketWatch','NYTimes','Reuters','The Guardian','WSJ']\n",
    "times = ['1_1','1_2','1_3','1_4','2_1','2_2','2_3','2_4','3_1','3_2','3_3','3_4','4_1','4_2']\n",
    "df = pd.DataFrame(columns = ['newspaper','date','url','title','shares'])\n",
    "\n",
    "for paper in newspapers:\n",
    "    for time in times:\n",
    "        with open(paper+'/'+time+'.json') as json_file:\n",
    "            data = json.load(json_file)            \n",
    "            #Normalize the json data\n",
    "            for data in data['articles']['results']:\n",
    "                df = df.append(pd.DataFrame.from_dict(json_normalize(data), orient='columns'),sort=False)\n",
    "                \n",
    "             "
   ]
  },
  {
   "cell_type": "code",
   "execution_count": 4,
   "metadata": {},
   "outputs": [
    {
     "data": {
      "text/html": [
       "<div>\n",
       "<style scoped>\n",
       "    .dataframe tbody tr th:only-of-type {\n",
       "        vertical-align: middle;\n",
       "    }\n",
       "\n",
       "    .dataframe tbody tr th {\n",
       "        vertical-align: top;\n",
       "    }\n",
       "\n",
       "    .dataframe thead th {\n",
       "        text-align: right;\n",
       "    }\n",
       "</style>\n",
       "<table border=\"1\" class=\"dataframe\">\n",
       "  <thead>\n",
       "    <tr style=\"text-align: right;\">\n",
       "      <th></th>\n",
       "      <th>newspaper</th>\n",
       "      <th>date</th>\n",
       "      <th>url</th>\n",
       "      <th>title</th>\n",
       "      <th>shares</th>\n",
       "    </tr>\n",
       "  </thead>\n",
       "  <tbody>\n",
       "    <tr>\n",
       "      <th>0</th>\n",
       "      <td>Breitbart</td>\n",
       "      <td>2020-01-20</td>\n",
       "      <td>https://www.breitbart.com/asia/2020/01/20/chin...</td>\n",
       "      <td>China Says 'No Need to Panic' as Deadly Virus ...</td>\n",
       "      <td>828.0</td>\n",
       "    </tr>\n",
       "    <tr>\n",
       "      <th>0</th>\n",
       "      <td>Breitbart</td>\n",
       "      <td>2020-01-26</td>\n",
       "      <td>https://www.breitbart.com/politics/2020/01/26/...</td>\n",
       "      <td>Arizona Resident is Fifth Coronavirus Case in ...</td>\n",
       "      <td>736.0</td>\n",
       "    </tr>\n",
       "    <tr>\n",
       "      <th>0</th>\n",
       "      <td>Breitbart</td>\n",
       "      <td>2020-01-23</td>\n",
       "      <td>https://www.breitbart.com/asia/2020/01/23/chin...</td>\n",
       "      <td>China Lockdown Extends to Five Cities, 20 Mill...</td>\n",
       "      <td>448.0</td>\n",
       "    </tr>\n",
       "    <tr>\n",
       "      <th>0</th>\n",
       "      <td>Breitbart</td>\n",
       "      <td>2020-01-22</td>\n",
       "      <td>https://www.breitbart.com/border/2020/01/22/ex...</td>\n",
       "      <td>EXCLUSIVE: Chinese Coronavirus 'Really Serious...</td>\n",
       "      <td>351.0</td>\n",
       "    </tr>\n",
       "    <tr>\n",
       "      <th>0</th>\n",
       "      <td>Breitbart</td>\n",
       "      <td>2020-01-22</td>\n",
       "      <td>https://www.breitbart.com/border/2020/01/22/po...</td>\n",
       "      <td>Possible Case of Chinese Coronavirus Reaches M...</td>\n",
       "      <td>321.0</td>\n",
       "    </tr>\n",
       "    <tr>\n",
       "      <th>...</th>\n",
       "      <td>...</td>\n",
       "      <td>...</td>\n",
       "      <td>...</td>\n",
       "      <td>...</td>\n",
       "      <td>...</td>\n",
       "    </tr>\n",
       "    <tr>\n",
       "      <th>0</th>\n",
       "      <td>Breitbart</td>\n",
       "      <td>2020-02-12</td>\n",
       "      <td>https://www.breitbart.com/asia/2020/02/12/chin...</td>\n",
       "      <td>China Cancels Formula 1 Grand Prix Amidst Coro...</td>\n",
       "      <td>NaN</td>\n",
       "    </tr>\n",
       "    <tr>\n",
       "      <th>0</th>\n",
       "      <td>Breitbart</td>\n",
       "      <td>2020-02-12</td>\n",
       "      <td>https://www.breitbart.com/national-security/20...</td>\n",
       "      <td>Chinese Military Bullies Taiwan in Response to...</td>\n",
       "      <td>NaN</td>\n",
       "    </tr>\n",
       "    <tr>\n",
       "      <th>0</th>\n",
       "      <td>Breitbart</td>\n",
       "      <td>2020-02-10</td>\n",
       "      <td>https://www.breitbart.com/europe/2020/02/10/uk...</td>\n",
       "      <td>UK: Coronavirus 'Imminent Threat', Activates E...</td>\n",
       "      <td>NaN</td>\n",
       "    </tr>\n",
       "    <tr>\n",
       "      <th>0</th>\n",
       "      <td>Breitbart</td>\n",
       "      <td>2020-02-11</td>\n",
       "      <td>https://www.breitbart.com/health/2020/02/10/co...</td>\n",
       "      <td>Coronavirus: Texans Quarantined in Homes After...</td>\n",
       "      <td>NaN</td>\n",
       "    </tr>\n",
       "    <tr>\n",
       "      <th>0</th>\n",
       "      <td>Breitbart</td>\n",
       "      <td>2020-02-11</td>\n",
       "      <td>https://www.breitbart.com/national-security/20...</td>\n",
       "      <td>China: The West Is 'Overreacting' to Coronavir...</td>\n",
       "      <td>NaN</td>\n",
       "    </tr>\n",
       "  </tbody>\n",
       "</table>\n",
       "<p>100 rows × 5 columns</p>\n",
       "</div>"
      ],
      "text/plain": [
       "    newspaper        date                                                url  \\\n",
       "0   Breitbart  2020-01-20  https://www.breitbart.com/asia/2020/01/20/chin...   \n",
       "0   Breitbart  2020-01-26  https://www.breitbart.com/politics/2020/01/26/...   \n",
       "0   Breitbart  2020-01-23  https://www.breitbart.com/asia/2020/01/23/chin...   \n",
       "0   Breitbart  2020-01-22  https://www.breitbart.com/border/2020/01/22/ex...   \n",
       "0   Breitbart  2020-01-22  https://www.breitbart.com/border/2020/01/22/po...   \n",
       "..        ...         ...                                                ...   \n",
       "0   Breitbart  2020-02-12  https://www.breitbart.com/asia/2020/02/12/chin...   \n",
       "0   Breitbart  2020-02-12  https://www.breitbart.com/national-security/20...   \n",
       "0   Breitbart  2020-02-10  https://www.breitbart.com/europe/2020/02/10/uk...   \n",
       "0   Breitbart  2020-02-11  https://www.breitbart.com/health/2020/02/10/co...   \n",
       "0   Breitbart  2020-02-11  https://www.breitbart.com/national-security/20...   \n",
       "\n",
       "                                                title  shares  \n",
       "0   China Says 'No Need to Panic' as Deadly Virus ...   828.0  \n",
       "0   Arizona Resident is Fifth Coronavirus Case in ...   736.0  \n",
       "0   China Lockdown Extends to Five Cities, 20 Mill...   448.0  \n",
       "0   EXCLUSIVE: Chinese Coronavirus 'Really Serious...   351.0  \n",
       "0   Possible Case of Chinese Coronavirus Reaches M...   321.0  \n",
       "..                                                ...     ...  \n",
       "0   China Cancels Formula 1 Grand Prix Amidst Coro...     NaN  \n",
       "0   Chinese Military Bullies Taiwan in Response to...     NaN  \n",
       "0   UK: Coronavirus 'Imminent Threat', Activates E...     NaN  \n",
       "0   Coronavirus: Texans Quarantined in Homes After...     NaN  \n",
       "0   China: The West Is 'Overreacting' to Coronavir...     NaN  \n",
       "\n",
       "[100 rows x 5 columns]"
      ]
     },
     "execution_count": 4,
     "metadata": {},
     "output_type": "execute_result"
    }
   ],
   "source": [
    "#Pull the News Share columns and rename them\n",
    "news_shares_df = df.loc[:,['source.title','date','url','title','shares.facebook']]\n",
    "news_shares_df.rename(columns={'source.title':'newspaper',\n",
    "                                'shares.facebook':'shares'},\n",
    "                     inplace=True)\n",
    "#news_shares_df = news_shares_df.reset_index(drop=True)\n",
    "news_shares_df.head(100)"
   ]
  },
  {
   "cell_type": "code",
   "execution_count": 7,
   "metadata": {},
   "outputs": [],
   "source": [
    "news_shares_df = news_shares_df.to_dict('records')"
   ]
  },
  {
   "cell_type": "code",
   "execution_count": 9,
   "metadata": {},
   "outputs": [
    {
     "data": {
      "text/plain": [
       "<pymongo.results.InsertManyResult at 0x188026d7e88>"
      ]
     },
     "execution_count": 9,
     "metadata": {},
     "output_type": "execute_result"
    }
   ],
   "source": [
    "#Add the data to mongodb\n",
    "collection.insert_many(news_shares_df)"
   ]
  }
 ],
 "metadata": {
  "kernelspec": {
   "display_name": "Python [conda env:.conda-PythonData] *",
   "language": "python",
   "name": "conda-env-.conda-PythonData-py"
  },
  "language_info": {
   "codemirror_mode": {
    "name": "ipython",
    "version": 3
   },
   "file_extension": ".py",
   "mimetype": "text/x-python",
   "name": "python",
   "nbconvert_exporter": "python",
   "pygments_lexer": "ipython3",
   "version": "3.6.9"
  }
 },
 "nbformat": 4,
 "nbformat_minor": 2
}
